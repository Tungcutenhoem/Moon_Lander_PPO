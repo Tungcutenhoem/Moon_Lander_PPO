{
  "nbformat": 4,
  "nbformat_minor": 0,
  "metadata": {
    "colab": {
      "provenance": [],
      "gpuType": "T4",
      "collapsed_sections": [
        "lqMpaaN5MJjG",
        "A-4yOQMyMQaF",
        "MaoOaOHAMXz_"
      ]
    },
    "kernelspec": {
      "name": "python3",
      "display_name": "Python 3"
    },
    "language_info": {
      "name": "python"
    },
    "accelerator": "GPU"
  },
  "cells": [
    {
      "cell_type": "markdown",
      "source": [
        "# 1.Install env"
      ],
      "metadata": {
        "id": "lqMpaaN5MJjG"
      }
    },
    {
      "cell_type": "markdown",
      "source": [],
      "metadata": {
        "id": "IUwRKcmlxM6v"
      }
    },
    {
      "cell_type": "code",
      "execution_count": null,
      "metadata": {
        "id": "r2zFFuFBHoZ4"
      },
      "outputs": [],
      "source": [
        "!apt install -y swig cmake ffmpeg xvfb python3-opengl\n",
        "!pip install stable-baselines3==2.0.0a5 gymnasium[box2d] huggingface_sb3 pyvirtualdisplay imageio[ffmpeg]"
      ]
    },
    {
      "cell_type": "code",
      "source": [
        "!pip install --upgrade --force-reinstall stable-baselines3"
      ],
      "metadata": {
        "id": "fbZwPipRIDJO"
      },
      "execution_count": null,
      "outputs": []
    },
    {
      "cell_type": "code",
      "source": [
        "!pip install pandas==2.2.2 numpy<2.1.0 --force-reinstall"
      ],
      "metadata": {
        "id": "ADaCGojCJq4W",
        "colab": {
          "base_uri": "https://localhost:8080/"
        },
        "outputId": "3d572afe-53e9-444e-f58d-0975e4cae6d1"
      },
      "execution_count": 3,
      "outputs": [
        {
          "output_type": "stream",
          "name": "stdout",
          "text": [
            "/bin/bash: line 1: 2.1.0: No such file or directory\n"
          ]
        }
      ]
    },
    {
      "cell_type": "code",
      "source": [
        "!pip install 'shimmy>=2.0'"
      ],
      "metadata": {
        "id": "3fJSF6nHCrsa"
      },
      "execution_count": null,
      "outputs": []
    },
    {
      "cell_type": "markdown",
      "source": [
        "# 2.Test env and render video"
      ],
      "metadata": {
        "id": "A-4yOQMyMQaF"
      }
    },
    {
      "cell_type": "code",
      "source": [
        "import os\n",
        "os.kill(os.getpid(), 9)"
      ],
      "metadata": {
        "id": "76L5cp3oKIFu"
      },
      "execution_count": null,
      "outputs": []
    },
    {
      "cell_type": "code",
      "source": [
        "from pyvirtualdisplay import Display\n",
        "virtual_display = Display(visible=0, size=(1400, 900))\n",
        "virtual_display.start()"
      ],
      "metadata": {
        "id": "Dd_9csvqKdV2"
      },
      "execution_count": null,
      "outputs": []
    },
    {
      "cell_type": "code",
      "source": [
        "from pyvirtualdisplay import Display\n",
        "import gymnasium as gym\n",
        "import numpy as np\n",
        "import imageio\n",
        "from stable_baselines3 import PPO\n",
        "\n",
        "display = Display(visible=0, size=(1400, 900))\n",
        "display.start()\n"
      ],
      "metadata": {
        "id": "1clZgF-uKjo1"
      },
      "execution_count": null,
      "outputs": []
    },
    {
      "cell_type": "code",
      "source": [
        "env = gym.make(\"LunarLander-v3\", render_mode=\"rgb_array\")\n",
        "model = PPO(\"MlpPolicy\", env,batch_size=64,ent_coef=0.01,gae_lambda=0.98,gamma=0.999,n_epochs=4,n_steps=1024,verbose=1,learning_rate=0.001,clip_range=0.2)"
      ],
      "metadata": {
        "id": "McYRh4IYLOP2"
      },
      "execution_count": null,
      "outputs": []
    },
    {
      "cell_type": "code",
      "source": [
        "video_filename = \"lunarlander.mp4\"\n",
        "def record_video(model, env, video_filename=\"lunarlander.mp4\", num_steps=200, fps=60):\n",
        "    frames = []\n",
        "    obs, _ = env.reset()\n",
        "\n",
        "    for _ in range(num_steps):\n",
        "        action, _ = model.predict(obs)\n",
        "        obs, _, done, _, _ = env.step(action)\n",
        "\n",
        "        frame = env.render()\n",
        "        frames.append(frame)\n",
        "\n",
        "        if done:\n",
        "            obs, _ = env.reset()\n",
        "\n",
        "    env.close()\n",
        "    imageio.mimsave(video_filename, frames, fps=fps)\n",
        "    print(f\"✅ Video đã được lưu tại: {video_filename}\")"
      ],
      "metadata": {
        "id": "eP6fwifwMpoH"
      },
      "execution_count": 4,
      "outputs": []
    },
    {
      "cell_type": "code",
      "source": [
        "from IPython.display import HTML\n",
        "from base64 import b64encode\n",
        "\n",
        "def show_video(path):\n",
        "    \"\"\" Hiển thị video trực tiếp trong Google Colab \"\"\"\n",
        "    with open(path, \"rb\") as f:\n",
        "        data = f.read()\n",
        "    encoded = b64encode(data).decode()\n",
        "    return HTML(f'<video controls autoplay loop><source src=\"data:video/mp4;base64,{encoded}\" type=\"video/mp4\"></video>')\n"
      ],
      "metadata": {
        "id": "qpSBKS14LXaO"
      },
      "execution_count": 5,
      "outputs": []
    },
    {
      "cell_type": "markdown",
      "source": [
        "# 3.Train Model"
      ],
      "metadata": {
        "id": "MaoOaOHAMXz_"
      }
    },
    {
      "cell_type": "code",
      "source": [
        "model.learn(total_timesteps=500000)"
      ],
      "metadata": {
        "id": "gACrQwE4Qd93"
      },
      "execution_count": null,
      "outputs": []
    },
    {
      "cell_type": "markdown",
      "source": [
        "# 4.Test mode"
      ],
      "metadata": {
        "id": "z-FqcYVR6LrM"
      }
    },
    {
      "cell_type": "code",
      "source": [
        "record_video(model,env,video_filename=\"lunarlander.mp4\",num_steps=1100,fps=60)\n",
        "show_video(video_filename)"
      ],
      "metadata": {
        "id": "10mWwCne6T5c"
      },
      "execution_count": null,
      "outputs": []
    },
    {
      "cell_type": "code",
      "source": [
        "model.save(\"lunarlander_model\")"
      ],
      "metadata": {
        "id": "phqyhRZp6nVE"
      },
      "execution_count": null,
      "outputs": []
    },
    {
      "cell_type": "markdown",
      "source": [
        "# 5.Use Model was saved"
      ],
      "metadata": {
        "id": "bic_51NnxgL7"
      }
    },
    {
      "cell_type": "code",
      "source": [
        "from stable_baselines3 import PPO\n",
        "from stable_baselines3.common.vec_env import DummyVecEnv, VecNormalize\n",
        "import gymnasium as gym\n",
        "import numpy as np\n",
        "import imageio\n",
        "import os\n",
        "\n",
        "env = gym.make(\"LunarLander-v3\", render_mode=\"rgb_array\")\n",
        "model = PPO.load(\"/content/lunarlander_model1\")"
      ],
      "metadata": {
        "id": "MAvZhGlg5NJv"
      },
      "execution_count": null,
      "outputs": []
    },
    {
      "cell_type": "code",
      "source": [
        "record_video(model,env,video_filename=\"lunarlander.mp4\",num_steps=1100,fps=60)"
      ],
      "metadata": {
        "colab": {
          "base_uri": "https://localhost:8080/"
        },
        "id": "x1vqUMmgQwoe",
        "outputId": "499a1a9d-7ad7-4831-f23b-904056a2d02f"
      },
      "execution_count": 6,
      "outputs": [
        {
          "output_type": "stream",
          "name": "stderr",
          "text": [
            "WARNING:imageio_ffmpeg:IMAGEIO FFMPEG_WRITER WARNING: input image is not divisible by macro_block_size=16, resizing from (600, 400) to (608, 400) to ensure video compatibility with most codecs and players. To prevent resizing, make your input image divisible by the macro_block_size or set the macro_block_size to 1 (risking incompatibility).\n"
          ]
        },
        {
          "output_type": "stream",
          "name": "stdout",
          "text": [
            "✅ Video đã được lưu tại: lunarlander.mp4\n"
          ]
        }
      ]
    },
    {
      "cell_type": "code",
      "source": [
        "show_video(video_filename)"
      ],
      "metadata": {
        "id": "jKuiN_ftGJai"
      },
      "execution_count": null,
      "outputs": []
    },
    {
      "cell_type": "code",
      "source": [
        "from stable_baselines3.common.evaluation import evaluate_policy\n",
        "mean_reward, std_reward = evaluate_policy(model, env, n_eval_episodes=50)\n",
        "print(f\"Điểm trung bình: {mean_reward:.2f} +/- {std_reward:.2f}\")"
      ],
      "metadata": {
        "colab": {
          "base_uri": "https://localhost:8080/"
        },
        "id": "p4YbxWwD5VOF",
        "outputId": "eee7a968-f898-4447-edc5-eda7b58410bd"
      },
      "execution_count": 8,
      "outputs": [
        {
          "output_type": "stream",
          "name": "stderr",
          "text": [
            "/usr/local/lib/python3.11/dist-packages/stable_baselines3/common/evaluation.py:67: UserWarning: Evaluation environment is not wrapped with a ``Monitor`` wrapper. This may result in reporting modified episode lengths and rewards, if other wrappers happen to modify these. Consider wrapping environment first with ``Monitor`` wrapper.\n",
            "  warnings.warn(\n"
          ]
        },
        {
          "output_type": "stream",
          "name": "stdout",
          "text": [
            "Điểm trung bình: 220.16 +/- 53.77\n"
          ]
        }
      ]
    }
  ]
}